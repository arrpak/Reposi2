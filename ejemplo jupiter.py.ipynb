{
 "cells": [
  {
   "cell_type": "code",
   "execution_count": 9,
   "metadata": {
    "collapsed": false
   },
   "outputs": [
    {
     "name": "stdout",
     "output_type": "stream",
     "text": [
      "None\n"
     ]
    },
    {
     "data": {
      "text/plain": [
       "(0, 2)"
      ]
     },
     "execution_count": 9,
     "metadata": {},
     "output_type": "execute_result"
    }
   ],
   "source": [
    "a=None\n",
    "print a\n",
    "\n",
    "def check_me(lista,a,b):\n",
    "    if a in lista:\n",
    "        a_out=a\n",
    "    else:\n",
    "        a_out=\n",
    "    if b in lista:\n",
    "        b_out=b\n",
    "    else:\n",
    "        b_out=0\n",
    "    return a_out,b_out\n",
    "    \n",
    "\n",
    "small_list=[1,2,3]\n",
    "\n",
    "a=1\n",
    "\n",
    "\n",
    "a in small_list\n",
    "\n",
    "check_me(small_list,0,2)\n",
    "\n"
   ]
  },
  {
   "cell_type": "code",
   "execution_count": null,
   "metadata": {
    "collapsed": true
   },
   "outputs": [],
   "source": []
  }
 ],
 "metadata": {
  "kernelspec": {
   "display_name": "Python 2",
   "language": "python",
   "name": "python2"
  },
  "language_info": {
   "codemirror_mode": {
    "name": "ipython",
    "version": 2
   },
   "file_extension": ".py",
   "mimetype": "text/x-python",
   "name": "python",
   "nbconvert_exporter": "python",
   "pygments_lexer": "ipython2",
   "version": "2.7.11"
  }
 },
 "nbformat": 4,
 "nbformat_minor": 0
}
