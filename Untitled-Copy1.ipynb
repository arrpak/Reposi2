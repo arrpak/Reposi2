{
 "cells": [
  {
   "cell_type": "code",
   "execution_count": 21,
   "metadata": {
    "collapsed": false
   },
   "outputs": [],
   "source": [
    "def max_of_three (a,b,c):\n",
    "    if a>b:\n",
    "        if a>c:\n",
    "            return a\n",
    "        else:\n",
    "            return c\n",
    "    else:\n",
    "        if b>c:\n",
    "            return b\n",
    "        else:\n",
    "            return c"
   ]
  },
  {
   "cell_type": "code",
   "execution_count": 22,
   "metadata": {
    "collapsed": false
   },
   "outputs": [
    {
     "data": {
      "text/plain": [
       "3"
      ]
     },
     "execution_count": 22,
     "metadata": {},
     "output_type": "execute_result"
    }
   ],
   "source": [
    "max_of_three (1,2,3)"
   ]
  },
  {
   "cell_type": "code",
   "execution_count": 23,
   "metadata": {
    "collapsed": false
   },
   "outputs": [
    {
     "name": "stdout",
     "output_type": "stream",
     "text": [
      "Variable       Type        Data/Info\n",
      "------------------------------------\n",
      "max_of_three   function    <function max_of_three at 0x7fda9eb3cde8>\n"
     ]
    }
   ],
   "source": [
    "whos"
   ]
  },
  {
   "cell_type": "code",
   "execution_count": 24,
   "metadata": {
    "collapsed": false
   },
   "outputs": [
    {
     "name": "stdout",
     "output_type": "stream",
     "text": [
      "\n",
      "\n",
      "!ls\n",
      "print 'hola'\n",
      "%%bash\n",
      "ls\n",
      "pwd\n",
      "run hello.py\n",
      "history\n",
      "run\n",
      "dd\n",
      "dfsdfsfsf\n",
      "print 'Hello from python'\n",
      "def max_of_three (a,b,c)\n",
      "    If a>b:\n",
      "        If a>c:\n",
      "            return a\n",
      "        else:\n",
      "            return c\n",
      "    else:\n",
      "        if b>c:\n",
      "            return b\n",
      "        else return c\n",
      "max_of_three (1,2,3)\n",
      "def max_of_three (a,b,c):\n",
      "    If a>b:\n",
      "        If a>c:\n",
      "            return a\n",
      "        else:\n",
      "            return c\n",
      "    else:\n",
      "        if b>c:\n",
      "            return b\n",
      "        else return c\n",
      "max_of_three (1,2,3)\n",
      "whos\n",
      "def max_of_three (a,b,c):\n",
      "    if a>b:\n",
      "        if a>c:\n",
      "            return a\n",
      "        else:\n",
      "            return c\n",
      "    else:\n",
      "        if b>c:\n",
      "            return b\n",
      "        else return c\n",
      "max_of_three (1,2,3)\n",
      "def max_of_three (a,b,c):\n",
      "    if a>b:\n",
      "        if a>c:\n",
      "            return a\n",
      "        else:\n",
      "            return c\n",
      "    else:\n",
      "        if b>c:\n",
      "            return b\n",
      "        else:\n",
      "            return c\n",
      "max_of_three (1,2,3)\n",
      "whos\n",
      "hist\n",
      "def max_of_three (a,b,c):\n",
      "    if a>b:\n",
      "        if a>c:\n",
      "            return a\n",
      "        else:\n",
      "            return c\n",
      "    else:\n",
      "        if b>c:\n",
      "            return b\n",
      "        else:\n",
      "            return c\n",
      "max_of_three (1,2,3)\n",
      "whos\n",
      "hist\n"
     ]
    }
   ],
   "source": [
    "hist\n"
   ]
  },
  {
   "cell_type": "code",
   "execution_count": 30,
   "metadata": {
    "collapsed": false
   },
   "outputs": [
    {
     "data": {
      "text/plain": [
       "279956"
      ]
     },
     "execution_count": 30,
     "metadata": {},
     "output_type": "execute_result"
    }
   ],
   "source": [
    "xs=[78455, 89211, 66540, 45750]\n",
    "xs[0]+xs[1]+xs[2]+xs[3]\n",
    "#las listas  se numeran desde cero"
   ]
  },
  {
   "cell_type": "code",
   "execution_count": null,
   "metadata": {
    "collapsed": true
   },
   "outputs": [],
   "source": []
  }
 ],
 "metadata": {
  "kernelspec": {
   "display_name": "Python 2",
   "language": "python",
   "name": "python2"
  },
  "language_info": {
   "codemirror_mode": {
    "name": "ipython",
    "version": 2
   },
   "file_extension": ".py",
   "mimetype": "text/x-python",
   "name": "python",
   "nbconvert_exporter": "python",
   "pygments_lexer": "ipython2",
   "version": "2.7.11"
  }
 },
 "nbformat": 4,
 "nbformat_minor": 0
}
